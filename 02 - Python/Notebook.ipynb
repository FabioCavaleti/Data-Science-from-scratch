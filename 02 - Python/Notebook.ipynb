{
 "cells": [
  {
   "cell_type": "markdown",
   "metadata": {},
   "source": [
    "# Um curso intensivo de Python\n",
    "\n",
    "[Github do livro](https://github.com/joelgrus/data-science-from-scratch)"
   ]
  },
  {
   "cell_type": "markdown",
   "metadata": {},
   "source": [
    "## O Zen do python\n",
    "\n",
    "Joel chama atenção para alguns princípios:\n",
    "- Deve haver uma , e preferencialmente apenas uma, maneira obvia de fazer algo\n",
    "- É melhor algo belo do que feio\n",
    "- É melhor algo simples do que complexo\n",
    "- É melhor algo explícito do que implícito"
   ]
  },
  {
   "cell_type": "code",
   "execution_count": 1,
   "metadata": {},
   "outputs": [
    {
     "name": "stdout",
     "output_type": "stream",
     "text": [
      "The Zen of Python, by Tim Peters\n",
      "\n",
      "Beautiful is better than ugly.\n",
      "Explicit is better than implicit.\n",
      "Simple is better than complex.\n",
      "Complex is better than complicated.\n",
      "Flat is better than nested.\n",
      "Sparse is better than dense.\n",
      "Readability counts.\n",
      "Special cases aren't special enough to break the rules.\n",
      "Although practicality beats purity.\n",
      "Errors should never pass silently.\n",
      "Unless explicitly silenced.\n",
      "In the face of ambiguity, refuse the temptation to guess.\n",
      "There should be one-- and preferably only one --obvious way to do it.\n",
      "Although that way may not be obvious at first unless you're Dutch.\n",
      "Now is better than never.\n",
      "Although never is often better than *right* now.\n",
      "If the implementation is hard to explain, it's a bad idea.\n",
      "If the implementation is easy to explain, it may be a good idea.\n",
      "Namespaces are one honking great idea -- let's do more of those!\n"
     ]
    }
   ],
   "source": [
    "import this"
   ]
  },
  {
   "cell_type": "markdown",
   "metadata": {},
   "source": [
    "## Primeiros passos"
   ]
  },
  {
   "cell_type": "code",
   "execution_count": 5,
   "metadata": {},
   "outputs": [
    {
     "name": "stdout",
     "output_type": "stream",
     "text": [
      "2\n",
      "3\n",
      "4\n",
      "5\n",
      "6\n",
      "3\n",
      "4\n",
      "5\n",
      "6\n",
      "7\n",
      "4\n",
      "5\n",
      "6\n",
      "7\n",
      "8\n",
      "5\n",
      "6\n",
      "7\n",
      "8\n",
      "9\n",
      "6\n",
      "7\n",
      "8\n",
      "9\n",
      "10\n"
     ]
    }
   ],
   "source": [
    "for i in [1,2,3,4,5]:\n",
    "    for j in [1, 2, 3, 4, 5]:\n",
    "        print(i + j)"
   ]
  },
  {
   "cell_type": "markdown",
   "metadata": {},
   "source": [
    "### Funções\n",
    "Uma função é um trecho de código que recebe zero ou mais parâmetros e retorna uma saída correspondente. O uso de funções serve para modularizar o código, de modo que podemos chamá - las sempre que quisermos sem termos que reescrever o mesmo código várias vezes.\n",
    "\n",
    "As funções em Python são de primeira classe. Isso significa que podemos atribuir funções a variáveis e também usar funções como argumentos de outras funções.\n",
    "\n",
    "Podemos escrever funções anônimas (lambdas). Estas não precisam ser definidas e podem tanto ser usadas por outras funções quanto sozinhas\n",
    "\n",
    "Geralmente as funções lambdas são utilizadas dentro de outras funções para deixar o código mais limpo. E para o resto usamos as funções definidas."
   ]
  },
  {
   "cell_type": "code",
   "execution_count": 16,
   "metadata": {},
   "outputs": [
    {
     "name": "stdout",
     "output_type": "stream",
     "text": [
      "10\n",
      "12\n",
      "6\n"
     ]
    }
   ],
   "source": [
    "def func(arg):\n",
    "    print(arg)\n",
    "\n",
    "func(10)\n",
    "\n",
    "func_lambda = lambda x,y: print(x + y)\n",
    "func_lambda(5,7)\n",
    "\n",
    "print((lambda x, y: x * y)(2,3))"
   ]
  }
 ],
 "metadata": {
  "kernelspec": {
   "display_name": "myenv",
   "language": "python",
   "name": "python3"
  },
  "language_info": {
   "codemirror_mode": {
    "name": "ipython",
    "version": 3
   },
   "file_extension": ".py",
   "mimetype": "text/x-python",
   "name": "python",
   "nbconvert_exporter": "python",
   "pygments_lexer": "ipython3",
   "version": "3.11.4"
  },
  "orig_nbformat": 4
 },
 "nbformat": 4,
 "nbformat_minor": 2
}
