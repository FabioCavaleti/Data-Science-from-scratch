{
 "cells": [
  {
   "cell_type": "markdown",
   "metadata": {},
   "source": [
    "# Um curso intensivo de Python\n",
    "\n",
    "[Github do livro](https://github.com/joelgrus/data-science-from-scratch)"
   ]
  },
  {
   "cell_type": "markdown",
   "metadata": {},
   "source": [
    "## O Zen do python\n",
    "\n",
    "Joel chama atenção para alguns princípios:\n",
    "- Deve haver uma , e preferencialmente apenas uma, maneira obvia de fazer algo\n",
    "- É melhor algo belo do que feio\n",
    "- É melhor algo simples do que complexo\n",
    "- É melhor algo explícito do que implícito"
   ]
  },
  {
   "cell_type": "code",
   "execution_count": 1,
   "metadata": {},
   "outputs": [
    {
     "name": "stdout",
     "output_type": "stream",
     "text": [
      "The Zen of Python, by Tim Peters\n",
      "\n",
      "Beautiful is better than ugly.\n",
      "Explicit is better than implicit.\n",
      "Simple is better than complex.\n",
      "Complex is better than complicated.\n",
      "Flat is better than nested.\n",
      "Sparse is better than dense.\n",
      "Readability counts.\n",
      "Special cases aren't special enough to break the rules.\n",
      "Although practicality beats purity.\n",
      "Errors should never pass silently.\n",
      "Unless explicitly silenced.\n",
      "In the face of ambiguity, refuse the temptation to guess.\n",
      "There should be one-- and preferably only one --obvious way to do it.\n",
      "Although that way may not be obvious at first unless you're Dutch.\n",
      "Now is better than never.\n",
      "Although never is often better than *right* now.\n",
      "If the implementation is hard to explain, it's a bad idea.\n",
      "If the implementation is easy to explain, it may be a good idea.\n",
      "Namespaces are one honking great idea -- let's do more of those!\n"
     ]
    }
   ],
   "source": [
    "import this"
   ]
  },
  {
   "cell_type": "markdown",
   "metadata": {},
   "source": [
    "## Primeiros passos"
   ]
  },
  {
   "cell_type": "code",
   "execution_count": 5,
   "metadata": {},
   "outputs": [
    {
     "name": "stdout",
     "output_type": "stream",
     "text": [
      "2\n",
      "3\n",
      "4\n",
      "5\n",
      "6\n",
      "3\n",
      "4\n",
      "5\n",
      "6\n",
      "7\n",
      "4\n",
      "5\n",
      "6\n",
      "7\n",
      "8\n",
      "5\n",
      "6\n",
      "7\n",
      "8\n",
      "9\n",
      "6\n",
      "7\n",
      "8\n",
      "9\n",
      "10\n"
     ]
    }
   ],
   "source": [
    "for i in [1,2,3,4,5]:\n",
    "    for j in [1, 2, 3, 4, 5]:\n",
    "        print(i + j)"
   ]
  },
  {
   "cell_type": "markdown",
   "metadata": {},
   "source": [
    "### Funções\n",
    "Uma função é um trecho de código que recebe zero ou mais parâmetros e retorna uma saída correspondente. O uso de funções serve para modularizar o código, de modo que podemos chamá - las sempre que quisermos sem termos que reescrever o mesmo código várias vezes.\n",
    "\n",
    "As funções em Python são de primeira classe. Isso significa que podemos atribuir funções a variáveis e também usar funções como argumentos de outras funções.\n",
    "\n",
    "Podemos escrever funções anônimas (lambdas). Estas não precisam ser definidas e podem tanto ser usadas por outras funções quanto sozinhas\n",
    "\n",
    "Geralmente as funções lambdas são utilizadas dentro de outras funções para deixar o código mais limpo. E para o resto usamos as funções definidas."
   ]
  },
  {
   "cell_type": "code",
   "execution_count": 16,
   "metadata": {},
   "outputs": [
    {
     "name": "stdout",
     "output_type": "stream",
     "text": [
      "10\n",
      "12\n",
      "6\n"
     ]
    }
   ],
   "source": [
    "def func(arg):\n",
    "    print(arg)\n",
    "\n",
    "func(10)\n",
    "\n",
    "func_lambda = lambda x,y: print(x + y)\n",
    "func_lambda(5,7)\n",
    "\n",
    "print((lambda x, y: x * y)(2,3))"
   ]
  },
  {
   "cell_type": "markdown",
   "metadata": {},
   "source": [
    "### Strings\n"
   ]
  },
  {
   "cell_type": "code",
   "execution_count": null,
   "metadata": {},
   "outputs": [],
   "source": [
    "# Podem ser delimitadas por aspas simpres ('') ou duplas (\"\")\n",
    "print('Olá ' + \"Mundo!!\")\n",
    "\n",
    "\n",
    "# É possível escrever strings em várias linhas utilizando a notação de 3 aspas duplas (\"\"\" STRING DE MULTIPLAS LINHAS AQUI\"\"\")\n",
    "print(\"\"\" String \n",
    "      de múltiplas\n",
    "       linhas\"\"\")\n",
    "\n",
    "# f-string: Forma mais fácil de concatenar strings e variáveis\n",
    "first_name = \"Fabio\"\n",
    "last_name = \"Cavaleti\"\n",
    "print(f\"{first_name} {last_name}\")"
   ]
  },
  {
   "cell_type": "markdown",
   "metadata": {},
   "source": [
    "### Exceções"
   ]
  },
  {
   "cell_type": "code",
   "execution_count": 1,
   "metadata": {},
   "outputs": [
    {
     "name": "stdout",
     "output_type": "stream",
     "text": [
      "Executando código dentro do try\n"
     ]
    }
   ],
   "source": [
    "try:\n",
    "    print(\"Executando código dentro do try\")\n",
    "except:\n",
    "    print(\"Tratamendo de exceçao\")"
   ]
  },
  {
   "cell_type": "markdown",
   "metadata": {},
   "source": [
    "### Listas\n",
    "\n",
    "É uma coleção ordenada, muito parecida com um array mas com algumas funcionalidades adicionais"
   ]
  },
  {
   "cell_type": "code",
   "execution_count": 20,
   "metadata": {},
   "outputs": [
    {
     "name": "stdout",
     "output_type": "stream",
     "text": [
      "[2, 3]\n",
      "[1, 3, 5, 7, 9]\n",
      "False\n",
      "[1, 2, 3, 4, 5, 6, 7, 8, 9, 10]\n"
     ]
    }
   ],
   "source": [
    "lst = [0, 1, 2, 3, 4, 5, 6, 7, 8, 9]\n",
    "\n",
    "# Lista[i:j] contém todos os elementos de i (incluso) a j (não incluso). Se o inicio da fatia não for indicado, então ela começa no inicio da lista. O mesmo vale para o fim da fatia\n",
    "print(lst[2:4])\n",
    "\n",
    "# A fatia pode ter um terceiro argumento que indica o intervalo de valores da sequencia\n",
    "print(lst[1:10:2])\n",
    "\n",
    "# Python possui o operador in para verificar se elementos estão na lista\n",
    "# OBS: Essa verificação analisa TODOS os elementos da lista, então se a lista for muito grande você pode ter problemas\n",
    "print(-2 in lst)\n",
    "\n",
    "# Modificação de lista\n",
    "x = [1, 2, 3]\n",
    "x.extend([4, 5, 6]) # Concatena listas\n",
    "# Ou \n",
    "x = x + [7, 8, 9]\n",
    "# Adicionar apenas um elemento\n",
    "x.append(10)\n",
    "print(x)\n",
    "\n"
   ]
  },
  {
   "cell_type": "markdown",
   "metadata": {},
   "source": [
    "### Tuplas"
   ]
  },
  {
   "cell_type": "code",
   "execution_count": 26,
   "metadata": {},
   "outputs": [
    {
     "name": "stdout",
     "output_type": "stream",
     "text": [
      "(1, 2, 3)\n",
      "Erro ao alterar a tupla\n"
     ]
    },
    {
     "data": {
      "text/plain": [
       "(1, 2, 3, 4, 5, 6)"
      ]
     },
     "execution_count": 26,
     "metadata": {},
     "output_type": "execute_result"
    }
   ],
   "source": [
    "# Tuplas são listas que não podem ser modificadas\n",
    "tup = (1, 2, 3)\n",
    "print(tup)\n",
    "\n",
    "try:\n",
    "    tup[0] = 5\n",
    "    print(tup)\n",
    "except:\n",
    "    print(\"Erro ao alterar a tupla\")\n",
    "\n",
    "# Observe que um elemento da tupla não pode ser modificado, mas novos elementos podem ser adicionados à ela\n",
    "tup = tup + (4, 5, 6)\n",
    "tup"
   ]
  },
  {
   "cell_type": "markdown",
   "metadata": {},
   "source": [
    "### Troca de variaveis"
   ]
  },
  {
   "cell_type": "code",
   "execution_count": 27,
   "metadata": {},
   "outputs": [
    {
     "name": "stdout",
     "output_type": "stream",
     "text": [
      "2 1 \n"
     ]
    }
   ],
   "source": [
    "# Forma pythonic de trocar variáveis\n",
    "\n",
    "x, y = 1, 2\n",
    "\n",
    "x, y = y, x\n",
    "\n",
    "print(f\"{x} {y} \")"
   ]
  },
  {
   "cell_type": "markdown",
   "metadata": {},
   "source": [
    "### Dicionários"
   ]
  },
  {
   "cell_type": "code",
   "execution_count": 40,
   "metadata": {},
   "outputs": [
    {
     "name": "stdout",
     "output_type": "stream",
     "text": [
      "Key Error\n",
      "False\n",
      "False\n",
      "Cavaleti\n"
     ]
    }
   ],
   "source": [
    "dict = {\"Fabio\": \"Cavaleti\"}\n",
    "\n",
    "try:\n",
    "    dict[\"Leticia\"]\n",
    "except:\n",
    "    print(\"Key Error\")\n",
    "\n",
    "print(\"Leticia\" in dict) # Dessa maneira, verifica se há uma chave sem precisar usar o try para erros\n",
    "print(\"Cavaleti\" in dict) # Cavaleti é um valor e não uma chave, portanto ele resulta em falso\n",
    "\n",
    "print(dict.get(\"Fabio\")) # Esse método retorna o valor da chave ou nulo se a chave não existir\n",
    "\n",
    "# OBS: As chaves do dicionário devem ser imutáveis. Portanto, listas não podem ser chaves do dicionário!! Mas elas podem ser valores.\n",
    "# É possível usar tuplas como chaves para o dicionário"
   ]
  }
 ],
 "metadata": {
  "kernelspec": {
   "display_name": "myenv",
   "language": "python",
   "name": "python3"
  },
  "language_info": {
   "codemirror_mode": {
    "name": "ipython",
    "version": 3
   },
   "file_extension": ".py",
   "mimetype": "text/x-python",
   "name": "python",
   "nbconvert_exporter": "python",
   "pygments_lexer": "ipython3",
   "version": "3.11.4"
  },
  "orig_nbformat": 4
 },
 "nbformat": 4,
 "nbformat_minor": 2
}
